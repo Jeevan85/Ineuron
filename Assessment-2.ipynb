{
 "cells": [
  {
   "cell_type": "markdown",
   "id": "4f662681",
   "metadata": {},
   "source": [
    "<b>1.What are the two values of the Boolean data type? How do you write them?</b>"
   ]
  },
  {
   "cell_type": "markdown",
   "id": "57ed24f0",
   "metadata": {},
   "source": [
    "<b><h4>Answer</h4></b>"
   ]
  },
  {
   "cell_type": "markdown",
   "id": "86454eb3",
   "metadata": {},
   "source": [
    "<p>There are two values for Boolean data type i.e., True and False</p>"
   ]
  },
  {
   "cell_type": "markdown",
   "id": "3a5fcfba",
   "metadata": {},
   "source": [
    "<b>2. What are the three different types of Boolean operators</b>"
   ]
  },
  {
   "cell_type": "markdown",
   "id": "e458a0ed",
   "metadata": {},
   "source": [
    "<b><h4>Answer</h4></b>"
   ]
  },
  {
   "cell_type": "markdown",
   "id": "8e41f773",
   "metadata": {},
   "source": [
    "<p> AND, OR, NOT </p>"
   ]
  },
  {
   "cell_type": "markdown",
   "id": "bb5240b6",
   "metadata": {},
   "source": [
    "<b>3. Make a list of each Boolean operator's truth tables (i.e. every possible combination of Boolean values for the operator and what it evaluate ).</b>"
   ]
  },
  {
   "cell_type": "markdown",
   "id": "97f890b1",
   "metadata": {},
   "source": [
    "<b><h4>Answer</h4></b>"
   ]
  },
  {
   "cell_type": "markdown",
   "id": "509a5e8d",
   "metadata": {},
   "source": [
    "<p>\n",
    "True and True is True.<br>\n",
    "    \n",
    "True and False is False.<br>\n",
    "\n",
    "False and True is False.<br>\n",
    "\n",
    "False and False is False.<br>\n",
    "\n",
    "True or True is True.<br>\n",
    "\n",
    "True or False is True.<br>\n",
    "\n",
    "False or True is True.<br>\n",
    "\n",
    "False or False is False.<br>\n",
    "\n",
    "not True is False.<br>\n",
    "\n",
    "not False is True.</p>"
   ]
  },
  {
   "cell_type": "markdown",
   "id": "607fe1c8",
   "metadata": {},
   "source": [
    "<b>4. What are the values of the following expressions?\n",
    "(5 > 4) and (3 == 5)\n",
    "not (5 > 4)\n",
    "(5 > 4) or (3 == 5)\n",
    "not ((5 > 4) or (3 == 5))\n",
    "(True and True) and (True == False)\n",
    "(not False) or (not True)\n",
    "</b>"
   ]
  },
  {
   "cell_type": "markdown",
   "id": "fbbc48ed",
   "metadata": {},
   "source": [
    "<b><h4>Answer</h4></b>"
   ]
  },
  {
   "cell_type": "markdown",
   "id": "bdf34a61",
   "metadata": {},
   "source": [
    "<p>\n",
    " (5 > 4) and (3 == 5)   -->    False<br><br>\n",
    "         not (5 > 4)    -->    False<br><br>\n",
    "    (5 > 4) or (3 == 5) -->    True<br><br>\n",
    " not ((5 > 4) or (3 == 5))-->  False<br><br>\n",
    " (True and True) and (True == False) --> False<br><br>\n",
    " (not False) or (not True)  -->  True<br>\n",
    "    </p>"
   ]
  },
  {
   "cell_type": "markdown",
   "id": "b4075636",
   "metadata": {},
   "source": [
    "<b>5. What are the six comparison operators?</b>"
   ]
  },
  {
   "cell_type": "markdown",
   "id": "2654183e",
   "metadata": {},
   "source": [
    "<b><h4>Answer</h4></b>"
   ]
  },
  {
   "cell_type": "markdown",
   "id": "461054f2",
   "metadata": {},
   "source": [
    "<p> >, <, ==, >=, <=, != </p>"
   ]
  },
  {
   "cell_type": "markdown",
   "id": "0cdb1dcd",
   "metadata": {},
   "source": [
    "<b>6. How do you tell the difference between the equal to and assignment operators?Describe a condition and when you would use one.</b>"
   ]
  },
  {
   "cell_type": "markdown",
   "id": "798fc838",
   "metadata": {},
   "source": [
    "<b><h4>Answer</h4></b>"
   ]
  },
  {
   "cell_type": "markdown",
   "id": "cd451e41",
   "metadata": {},
   "source": [
    "<p> == is used to compare two values to check whether they are equal or not, whereas assignment operator(=) is used to assign a value to a variable.<br><br>\n",
    "    example<br>\n",
    "    a=5  ]--->    #Assignment operator<br>\n",
    "    b=5  <br>\n",
    "    \n",
    "    if(a==b):      ------>   #equal too\n",
    "        print(\"Equal\")\n",
    "    else:\n",
    "        print(\"Not equal\")"
   ]
  },
  {
   "cell_type": "markdown",
   "id": "baa27a7c",
   "metadata": {},
   "source": [
    "7. Identify the three blocks in this code:\n",
    "spam = 0\n",
    "if spam == 10:\n",
    "print('eggs')\n",
    "if spam > 5:\n",
    "print('bacon')\n",
    "else:\n",
    "print('ham')\n",
    "print('spam')\n",
    "print('spam')\n"
   ]
  },
  {
   "cell_type": "markdown",
   "id": "589e05b8",
   "metadata": {},
   "source": [
    "<b><h4>Answer</h4></b>"
   ]
  },
  {
   "cell_type": "code",
   "execution_count": null,
   "id": "b40b332e",
   "metadata": {},
   "outputs": [],
   "source": [
    "\n",
    "spam = 0\n",
    "if spam == 10:        #block1\n",
    "    print('eggs')\n",
    "if spam > 5:          #block2\n",
    "    print('bacon')\n",
    "else:                 #block3  \n",
    "    print('ham')\n",
    "    print('spam')\n",
    "    print('spam')"
   ]
  },
  {
   "cell_type": "markdown",
   "id": "87a6a87e",
   "metadata": {},
   "source": [
    "<b>8. Write code that prints Hello if 1 is stored in spam, prints Howdy if 2 is stored in spam, and prints Greetings! if anything else is stored in spam.</b>"
   ]
  },
  {
   "cell_type": "markdown",
   "id": "ac3a82da",
   "metadata": {},
   "source": [
    "<b><h4>Answer</h4></b>"
   ]
  },
  {
   "cell_type": "code",
   "execution_count": null,
   "id": "48133f0d",
   "metadata": {},
   "outputs": [],
   "source": [
    "spam = int(input())\n",
    "if spam==1:\n",
    "    print(\"Hello\")\n",
    "elif spam==2:\n",
    "    print(\"Howdy\")\n",
    "else:\n",
    "    print(\"Greetings\")"
   ]
  },
  {
   "cell_type": "markdown",
   "id": "62aa8dfe",
   "metadata": {},
   "source": [
    "<b>9.If your programme is stuck in an endless loop, what keys you’ll press?</b>"
   ]
  },
  {
   "cell_type": "markdown",
   "id": "eca9b3bf",
   "metadata": {},
   "source": [
    "<b><h4>Answer</h4></b>"
   ]
  },
  {
   "cell_type": "markdown",
   "id": "c4e37b8a",
   "metadata": {},
   "source": [
    "<p>I will press Ctrl + c </p>"
   ]
  },
  {
   "cell_type": "markdown",
   "id": "38e4efd2",
   "metadata": {},
   "source": [
    "<b>10. How can you tell the difference between break and continue?</b>"
   ]
  },
  {
   "cell_type": "markdown",
   "id": "0133ab48",
   "metadata": {},
   "source": [
    "<b><h4>Answer</h4></b>"
   ]
  },
  {
   "cell_type": "markdown",
   "id": "b1b2f134",
   "metadata": {},
   "source": [
    "<p>\n",
    "Break is a statement that is used for abnormal termination from a loop.<br><br>\n",
    "Continue is a statement that is used to skip the current iteration of a loop.</p>"
   ]
  },
  {
   "cell_type": "markdown",
   "id": "6f3ce2f3",
   "metadata": {},
   "source": [
    "<b>11. In a for loop, what is the difference between range(10), range(0, 10), and range(0, 10, 1)?</b>"
   ]
  },
  {
   "cell_type": "markdown",
   "id": "954917ba",
   "metadata": {},
   "source": [
    "<b><h4>Answer</h4></b>"
   ]
  },
  {
   "cell_type": "markdown",
   "id": "cfb3d0fe",
   "metadata": {},
   "source": [
    "<p>\n",
    "range(10) the values ranges from 0 to 9 <br>\n",
    "range(0, 10) the values ranges from 0 to 9 as like above one <br>\n",
    "range(0,10,1) the values ranges from 0 to 9 only<br>\n",
    "    \n",
    "these 3 above statements results in same but the represenation was different that's it</p>   "
   ]
  },
  {
   "cell_type": "markdown",
   "id": "31c61bc7",
   "metadata": {},
   "source": [
    "<b>2. Write a short program that prints the numbers 1 to 10 using a for loop. Then write an equivalent program that prints the numbers 1 to 10 using a while loop.</b>"
   ]
  },
  {
   "cell_type": "markdown",
   "id": "cc217864",
   "metadata": {},
   "source": [
    "<b><h4>Answer</h4></b>"
   ]
  },
  {
   "cell_type": "code",
   "execution_count": 4,
   "id": "9833dd75",
   "metadata": {},
   "outputs": [
    {
     "name": "stdout",
     "output_type": "stream",
     "text": [
      "For Loop\n",
      "1\n",
      "2\n",
      "3\n",
      "4\n",
      "5\n",
      "6\n",
      "7\n",
      "8\n",
      "9\n",
      "10\n",
      "While Loop\n",
      "1\n",
      "2\n",
      "3\n",
      "4\n",
      "5\n",
      "6\n",
      "7\n",
      "8\n",
      "9\n",
      "10\n"
     ]
    }
   ],
   "source": [
    "print(\"For Loop\")\n",
    "for i in range(1,11):\n",
    "    print(i)\n",
    "\n",
    "print(\"While Loop\")    \n",
    "i=1\n",
    "while i<11:\n",
    "    print(i)\n",
    "    i+=1"
   ]
  },
  {
   "cell_type": "markdown",
   "id": "b71988d8",
   "metadata": {},
   "source": [
    "<b>13. If you had a function named bacon() inside a module named spam, how would you call it after importing spam?</b>"
   ]
  },
  {
   "cell_type": "markdown",
   "id": "3bdcf292",
   "metadata": {},
   "source": [
    "<b><h4>Answer</h4></b>"
   ]
  },
  {
   "cell_type": "code",
   "execution_count": null,
   "id": "dc8f1cfe",
   "metadata": {},
   "outputs": [],
   "source": []
  }
 ],
 "metadata": {
  "kernelspec": {
   "display_name": "Python 3 (ipykernel)",
   "language": "python",
   "name": "python3"
  },
  "language_info": {
   "codemirror_mode": {
    "name": "ipython",
    "version": 3
   },
   "file_extension": ".py",
   "mimetype": "text/x-python",
   "name": "python",
   "nbconvert_exporter": "python",
   "pygments_lexer": "ipython3",
   "version": "3.9.12"
  }
 },
 "nbformat": 4,
 "nbformat_minor": 5
}
