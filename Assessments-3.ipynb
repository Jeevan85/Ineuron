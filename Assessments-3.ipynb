{
 "cells": [
  {
   "cell_type": "markdown",
   "id": "d3c5d124",
   "metadata": {},
   "source": [
    "<b>1. Why are functions advantageous to have in your programs?</b>"
   ]
  },
  {
   "cell_type": "markdown",
   "id": "66cf0f9e",
   "metadata": {},
   "source": [
    "<b><h4>Answer</h4></b>"
   ]
  },
  {
   "cell_type": "markdown",
   "id": "e0f1b018",
   "metadata": {},
   "source": [
    "<p>Functions are more advantageous, they makes us to go for code usability that makes the programmer work easy in accessing without writing the code redudant code from the scratch</p>"
   ]
  },
  {
   "cell_type": "markdown",
   "id": "230650af",
   "metadata": {},
   "source": [
    "<b>2. When does the code in a function run: when it's specified or when it's called?</b>"
   ]
  },
  {
   "cell_type": "markdown",
   "id": "018d4458",
   "metadata": {},
   "source": [
    "<b><h4>Answer</h4></b>"
   ]
  },
  {
   "cell_type": "markdown",
   "id": "a3689022",
   "metadata": {},
   "source": [
    "<p> A function can be executed or runned when it is called only it will not be executed when it is specified</p>"
   ]
  },
  {
   "cell_type": "markdown",
   "id": "c340bed1",
   "metadata": {},
   "source": [
    "<b>3. What statement creates a function?</b>\n"
   ]
  },
  {
   "cell_type": "markdown",
   "id": "f1092336",
   "metadata": {},
   "source": [
    "<b><h4>Answer</h4></b>"
   ]
  },
  {
   "cell_type": "markdown",
   "id": "6dffd415",
   "metadata": {},
   "source": [
    "<p>\"def\" is the keyword used for creating and the signature of the function will be<br>\n",
    "    \n",
    "    def func():\n",
    "        ----\n",
    "        ----\n",
    "</p>"
   ]
  },
  {
   "cell_type": "markdown",
   "id": "299d7c93",
   "metadata": {},
   "source": [
    "<b>4. What is the difference between a function and a function call?<b>"
   ]
  },
  {
   "cell_type": "markdown",
   "id": "75bd243e",
   "metadata": {},
   "source": [
    "<b><h4>Answer</h4></b>"
   ]
  },
  {
   "cell_type": "markdown",
   "id": "7e0c5e2a",
   "metadata": {},
   "source": [
    "<p>Function is a block of statements that can have either have parameters and also it may have either return type\n",
    "   Function call is an expression that used to execute the respective function by passing the parameters if it has and until the \n",
    "   function is called it cannot be executed\n",
    "   \n",
    "   def func():  ------> Function <br>\n",
    "        --- <br>\n",
    "        --- <br>\n",
    "   func()    ----> Function call <br>\n",
    "</p>"
   ]
  },
  {
   "cell_type": "markdown",
   "id": "381979bc",
   "metadata": {},
   "source": [
    "<b>5. How many global scopes are there in a Python program? How many local scopes?</b>"
   ]
  },
  {
   "cell_type": "markdown",
   "id": "a56847eb",
   "metadata": {},
   "source": [
    "<b><h4>Answer</h4></b>"
   ]
  },
  {
   "cell_type": "markdown",
   "id": "b38243ae",
   "metadata": {},
   "source": [
    "<p>We can have only one global scope and we can have infinite number of local scopes.</p>"
   ]
  },
  {
   "cell_type": "markdown",
   "id": "35a10b12",
   "metadata": {},
   "source": [
    "<b>6. What happens to variables in a local scope when the function call returns</b>"
   ]
  },
  {
   "cell_type": "markdown",
   "id": "b7f9c027",
   "metadata": {},
   "source": [
    "<b><h4>Answer</h4></b>"
   ]
  },
  {
   "cell_type": "markdown",
   "id": "181a78e6",
   "metadata": {},
   "source": [
    "<p> When the function returns the result then the local variables that will be destroyed</p>"
   ]
  },
  {
   "cell_type": "markdown",
   "id": "3f285baa",
   "metadata": {},
   "source": [
    "<b>7. What is the concept of a return value? Is it possible to have a return value in an expression?</b>"
   ]
  },
  {
   "cell_type": "markdown",
   "id": "06d08a3e",
   "metadata": {},
   "source": [
    "<b><h4>Answer</h4></b>\n"
   ]
  },
  {
   "cell_type": "markdown",
   "id": "89021185",
   "metadata": {},
   "source": [
    "<p>Return statement is used in the functions which returns the result from rhe function. Yes it is possible to have return can be used in an expression</p>"
   ]
  },
  {
   "cell_type": "markdown",
   "id": "017c4f8b",
   "metadata": {},
   "source": [
    "<b>8. If a function does not have a return statement, what is the return value of a call to that function?</b>"
   ]
  },
  {
   "cell_type": "markdown",
   "id": "029ca788",
   "metadata": {},
   "source": [
    "<b><h4>Answer</h4></b>"
   ]
  },
  {
   "cell_type": "markdown",
   "id": "953d688c",
   "metadata": {},
   "source": [
    "<p> When a function is called the block of statements will be executed, if the function doesn't have any return statement in it then the value of a call to that function is None</p>"
   ]
  },
  {
   "cell_type": "markdown",
   "id": "6a4014ae",
   "metadata": {},
   "source": [
    "<b>9. How do you make a function variable refer to the global variable?</b>"
   ]
  },
  {
   "cell_type": "markdown",
   "id": "05939cfd",
   "metadata": {},
   "source": [
    "<b><h4>Answer</h4></b>"
   ]
  },
  {
   "cell_type": "markdown",
   "id": "76085ae1",
   "metadata": {},
   "source": [
    "<p>By using the keyword \"global\" we can make function variable into global variable</p>"
   ]
  },
  {
   "cell_type": "markdown",
   "id": "30ac9cec",
   "metadata": {},
   "source": [
    "<b>10. What is the data type of None?</b>"
   ]
  },
  {
   "cell_type": "markdown",
   "id": "c0517070",
   "metadata": {},
   "source": [
    "<b><h4>Answer</h4></b>"
   ]
  },
  {
   "cell_type": "markdown",
   "id": "71a614e2",
   "metadata": {},
   "source": [
    "<p>The data type of None is NoneType</p>"
   ]
  },
  {
   "cell_type": "markdown",
   "id": "a339b456",
   "metadata": {},
   "source": [
    "<b>11. What does the sentence import areallyourpetsnamederic do?</b>"
   ]
  },
  {
   "cell_type": "markdown",
   "id": "0384c019",
   "metadata": {},
   "source": [
    "<b><h4>Answer</h4></b>"
   ]
  },
  {
   "cell_type": "markdown",
   "id": "a8dd6206",
   "metadata": {},
   "source": [
    "That import statement imports a module named areallyourpetsnamederic and it can be accessible."
   ]
  },
  {
   "cell_type": "markdown",
   "id": "f967b1db",
   "metadata": {},
   "source": [
    "<b>12. If you had a bacon() feature in a spam module, what would you call it after importing spam?</b>"
   ]
  },
  {
   "cell_type": "markdown",
   "id": "7bc448fb",
   "metadata": {},
   "source": [
    "<b><h4>Answer</h4></b>"
   ]
  },
  {
   "cell_type": "markdown",
   "id": "34833246",
   "metadata": {},
   "source": [
    "<p>We call like this spam.bacon()</p>"
   ]
  },
  {
   "cell_type": "markdown",
   "id": "0c9bd0cb",
   "metadata": {},
   "source": [
    "<b>13. What can you do to save a programme from crashing if it encounters an error?</b>"
   ]
  },
  {
   "cell_type": "markdown",
   "id": "6994ec82",
   "metadata": {},
   "source": [
    "<b><h4>Answer</h4></b>"
   ]
  },
  {
   "cell_type": "markdown",
   "id": "b54139e4",
   "metadata": {},
   "source": [
    "<p>We can place the code in the try clause block</p> "
   ]
  },
  {
   "cell_type": "markdown",
   "id": "dbf81116",
   "metadata": {},
   "source": [
    "<b>14. What is the purpose of the try clause? What is the purpose of the except clause?</b>"
   ]
  },
  {
   "cell_type": "markdown",
   "id": "744f9371",
   "metadata": {},
   "source": [
    "<b><h4>Answer</h4></b>"
   ]
  },
  {
   "cell_type": "markdown",
   "id": "3a73cf94",
   "metadata": {},
   "source": [
    "<p>In try block we will place the crucialcode that may omit to the exceptions<br>\n",
    "   In except block the handling of exception which occured in the try block will be done\n",
    "</p> \n",
    "    "
   ]
  }
 ],
 "metadata": {
  "kernelspec": {
   "display_name": "Python 3 (ipykernel)",
   "language": "python",
   "name": "python3"
  },
  "language_info": {
   "codemirror_mode": {
    "name": "ipython",
    "version": 3
   },
   "file_extension": ".py",
   "mimetype": "text/x-python",
   "name": "python",
   "nbconvert_exporter": "python",
   "pygments_lexer": "ipython3",
   "version": "3.9.12"
  }
 },
 "nbformat": 4,
 "nbformat_minor": 5
}
