{
 "cells": [
  {
   "cell_type": "markdown",
   "id": "e3d4f9f1",
   "metadata": {},
   "source": [
    "<b>1. What are escape characters, and how do you use them?</b>"
   ]
  },
  {
   "cell_type": "markdown",
   "id": "e7076354",
   "metadata": {},
   "source": [
    "<b><h4>Answer</h4></b>"
   ]
  },
  {
   "cell_type": "markdown",
   "id": "fff340dc",
   "metadata": {},
   "source": [
    "<p>Escape characters made easy to represent the string values in a desired format otherwise it would be difficult to write a code for that. The escape character allows us to use double quotes when you normally would not be allowed. </p>"
   ]
  },
  {
   "cell_type": "markdown",
   "id": "93931783",
   "metadata": {},
   "source": [
    "<b>2. What do the escape characters n and t stand for?</b>"
   ]
  },
  {
   "cell_type": "markdown",
   "id": "0a829939",
   "metadata": {},
   "source": [
    "<b><h4>Answer</h4></b>"
   ]
  },
  {
   "cell_type": "markdown",
   "id": "125fd156",
   "metadata": {},
   "source": [
    "<p>'n' can be used for a new line and 't' is used for tab</p>"
   ]
  },
  {
   "cell_type": "markdown",
   "id": "53f5949e",
   "metadata": {},
   "source": [
    "<b>3. What is the way to include backslash characters in a string?</b>"
   ]
  },
  {
   "cell_type": "markdown",
   "id": "8596b7d6",
   "metadata": {},
   "source": [
    "<b><h4>Answer</h4></b>"
   ]
  },
  {
   "cell_type": "markdown",
   "id": "ed73389a",
   "metadata": {},
   "source": [
    "<p>The escape '\\' character is used as blackslash character in String it can be used for inserting a new line or a tab along with the n and t i.e., '/n' and '/t'</p>"
   ]
  },
  {
   "cell_type": "markdown",
   "id": "ab087630",
   "metadata": {},
   "source": [
    "<b>4. The string \"Howl's Moving Castle\" is a correct value. Why isn't the single quote character in the word Howl's not escaped a problem?</b>"
   ]
  },
  {
   "cell_type": "markdown",
   "id": "6dd7b973",
   "metadata": {},
   "source": [
    "<b><h4>Answer</h4></b>"
   ]
  },
  {
   "cell_type": "markdown",
   "id": "edcdd773",
   "metadata": {},
   "source": [
    "<p>The word \"Howl's\" is a correct value because it was incoded in a double quotes that indicates the beginning and ending of the string and single quote between 'I' & 's' doesn't create a problem.</p>"
   ]
  },
  {
   "cell_type": "markdown",
   "id": "b9a966b5",
   "metadata": {},
   "source": [
    "<b>5. How do you write a string of newlines if you don't want to use the n character?</b>"
   ]
  },
  {
   "cell_type": "markdown",
   "id": "dfa6662b",
   "metadata": {},
   "source": [
    "<b><h4>Answer</h4></b>"
   ]
  },
  {
   "cell_type": "markdown",
   "id": "f263b76c",
   "metadata": {},
   "source": [
    "<p>By using Multiline string where the value will be encoded between the 3 single or 3 double quotes</p>"
   ]
  },
  {
   "cell_type": "markdown",
   "id": "3bb04b3a",
   "metadata": {},
   "source": [
    "<b>6. What are the values of the given expressions?<br>\n",
    "'Hello, world!'[1]<br>\n",
    "'Hello, world!'[0:5]<br>\n",
    "'Hello, world!'[:5]<br>\n",
    "'Hello, world!'[3:]<br>\n",
    "</b>"
   ]
  },
  {
   "cell_type": "markdown",
   "id": "a7f65064",
   "metadata": {},
   "source": [
    "<b><h4>Answer</h4></b>"
   ]
  },
  {
   "cell_type": "markdown",
   "id": "e2af5ca7",
   "metadata": {},
   "source": [
    "<p>'Hello, world!'[1] = 'e' <br>\n",
    "   'Hello, world!'[0:5] = 'Hello'<br>\n",
    "   'Hello, world!'[:5] = 'Hello' <br>\n",
    "   'Hello, world!'[3:] = 'lo, world!' "
   ]
  },
  {
   "cell_type": "markdown",
   "id": "5fea8681",
   "metadata": {},
   "source": [
    "<b>7. What are the values of the following expressions?<br>\n",
    "'Hello'.upper()<br>\n",
    "'Hello'.upper().isupper()<br>\n",
    "'Hello'.upper().lower()<br>\n",
    "</b>    \n"
   ]
  },
  {
   "cell_type": "markdown",
   "id": "87da98ee",
   "metadata": {},
   "source": [
    "<b><h4>Answer</h4></b>"
   ]
  },
  {
   "cell_type": "markdown",
   "id": "ad16d519",
   "metadata": {},
   "source": [
    "<p> 'Hello'.upper() = 'HELLO' <br>\n",
    "    'Hello'.upper().isupper() = True <br>\n",
    "    'Hello'.upper().lower() = 'hello'\n",
    "</p>"
   ]
  },
  {
   "cell_type": "markdown",
   "id": "987c9cbd",
   "metadata": {},
   "source": [
    "<b>8. What are the values of the following expressions?<br>\n",
    "'Remember, remember, the fifth of July.'.split()<br>\n",
    "'-'.join('There can only one.'.split())<br>\n",
    "</b>\n"
   ]
  },
  {
   "cell_type": "markdown",
   "id": "15565fe0",
   "metadata": {},
   "source": [
    "<b><h4>Answer</h4></b>"
   ]
  },
  {
   "cell_type": "markdown",
   "id": "bc50c088",
   "metadata": {},
   "source": [
    "<p>'Remember, remember, the fifth of July.'.split() = ['Remember,','remember,','the','fifth','of','July.'] <br>\n",
    "    '-'.join('There can only one.'.split()) = 'There-can-only-one.'\n",
    "</p>"
   ]
  },
  {
   "cell_type": "markdown",
   "id": "14a0252e",
   "metadata": {},
   "source": [
    "<b>9. What are the methods for right-justifying, left-justifying, and centering a string?</b>"
   ]
  },
  {
   "cell_type": "markdown",
   "id": "eba97902",
   "metadata": {},
   "source": [
    "<b><h4>Answer</h4></b>"
   ]
  },
  {
   "cell_type": "markdown",
   "id": "9094a6c1",
   "metadata": {},
   "source": [
    "<p>rjust(), ljust(), and center() are the methods or right-justifying, left-justifying, and centering a string</p>"
   ]
  },
  {
   "cell_type": "markdown",
   "id": "3b82878c",
   "metadata": {},
   "source": [
    "<b>10. What is the best way to remove whitespace characters from the start or end?</b>"
   ]
  },
  {
   "cell_type": "markdown",
   "id": "9abaa22d",
   "metadata": {},
   "source": [
    "<b><h4>Answer</h4></b>"
   ]
  },
  {
   "cell_type": "markdown",
   "id": "f535119f",
   "metadata": {},
   "source": [
    "<p>We can use .strip() method to remove the spaces from start to end of the string.</p>"
   ]
  }
 ],
 "metadata": {
  "kernelspec": {
   "display_name": "Python 3 (ipykernel)",
   "language": "python",
   "name": "python3"
  },
  "language_info": {
   "codemirror_mode": {
    "name": "ipython",
    "version": 3
   },
   "file_extension": ".py",
   "mimetype": "text/x-python",
   "name": "python",
   "nbconvert_exporter": "python",
   "pygments_lexer": "ipython3",
   "version": "3.9.12"
  }
 },
 "nbformat": 4,
 "nbformat_minor": 5
}
