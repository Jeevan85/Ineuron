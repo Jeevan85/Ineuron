{
 "cells": [
  {
   "cell_type": "markdown",
   "id": "4a1b2593",
   "metadata": {},
   "source": [
    "<b>1. What exactly is []?</b>"
   ]
  },
  {
   "cell_type": "markdown",
   "id": "19809368",
   "metadata": {},
   "source": [
    "<b><h4>Answer</h4></b>"
   ]
  },
  {
   "cell_type": "markdown",
   "id": "981509c2",
   "metadata": {},
   "source": [
    "<p>It is a list which has no elements in it and we call it as empty list</p>"
   ]
  },
  {
   "cell_type": "markdown",
   "id": "d6f10741",
   "metadata": {},
   "source": [
    "<b>2. In a list of values stored in a variable called spam, how would you assign the value 'hello' as the third value? (Assume [2, 4, 6, 8, 10] are in spam.)</b>"
   ]
  },
  {
   "cell_type": "markdown",
   "id": "2ba84372",
   "metadata": {},
   "source": [
    "<b><h4>Answer</h4></b>"
   ]
  },
  {
   "cell_type": "markdown",
   "id": "9eb46440",
   "metadata": {},
   "source": [
    "<p>We can assign by specifying the index like<br>\n",
    "   spam[2]='hello'<br>\n",
    "   this makes the list updated i.e., [2,4,'hello',8,10]"
   ]
  },
  {
   "cell_type": "markdown",
   "id": "1a6c2848",
   "metadata": {},
   "source": [
    "<b>3. What is the value of spam[int(int('3' * 2) / 11)]?<br>\n",
    "    Let's pretend the spam includes the list ['a', 'b', 'c', 'd'] for the next three queries.\n",
    "</b>"
   ]
  },
  {
   "cell_type": "markdown",
   "id": "db03c82d",
   "metadata": {},
   "source": [
    "<b><h4>Answer</h4></b>"
   ]
  },
  {
   "cell_type": "markdown",
   "id": "1a5607b0",
   "metadata": {},
   "source": [
    "<p>the output is 'd'"
   ]
  },
  {
   "cell_type": "markdown",
   "id": "7f602374",
   "metadata": {},
   "source": [
    "<b>4. What is the value of spam[-1]?</b>"
   ]
  },
  {
   "cell_type": "markdown",
   "id": "1910c54b",
   "metadata": {},
   "source": [
    "<b><h4>Answer</h4></b>"
   ]
  },
  {
   "cell_type": "markdown",
   "id": "afacc158",
   "metadata": {},
   "source": [
    "<p><p>the output is 'd'</p>"
   ]
  },
  {
   "cell_type": "markdown",
   "id": "3ab6e399",
   "metadata": {},
   "source": [
    "<b>5. What is the value of spam[:2]?</b>"
   ]
  },
  {
   "cell_type": "markdown",
   "id": "a5c6c952",
   "metadata": {},
   "source": [
    "<b><h4>Answer</h4></b>"
   ]
  },
  {
   "cell_type": "markdown",
   "id": "abba0db6",
   "metadata": {},
   "source": [
    "<p>The output is ['a','b']"
   ]
  },
  {
   "cell_type": "markdown",
   "id": "f1f66807",
   "metadata": {},
   "source": [
    "<b>Let's pretend bacon has the list [3.14, 'cat,' 11, 'cat,' True] for the next three questions.<br>\n",
    "6. What is the value of bacon.index('cat')?\n",
    "</b>"
   ]
  },
  {
   "cell_type": "markdown",
   "id": "5102400f",
   "metadata": {},
   "source": [
    "<b><h4>Answer</h4></b>"
   ]
  },
  {
   "cell_type": "markdown",
   "id": "ac4c3c8c",
   "metadata": {},
   "source": [
    "<p>The output is 1</p> "
   ]
  },
  {
   "cell_type": "markdown",
   "id": "a90e0c7e",
   "metadata": {},
   "source": [
    "<b>7. How does bacon.append(99) change the look of the list value in bacon?<?b>"
   ]
  },
  {
   "cell_type": "markdown",
   "id": "95124b85",
   "metadata": {},
   "source": [
    "<b><h4>Answer</h4></b>"
   ]
  },
  {
   "cell_type": "markdown",
   "id": "65f9e00d",
   "metadata": {},
   "source": [
    "<p>The append operation makes the value to be added at the last of the list<br>\n",
    "   [3.14, 'cat,' 11, 'cat,' True,99]  "
   ]
  },
  {
   "cell_type": "markdown",
   "id": "ebed2bb4",
   "metadata": {},
   "source": [
    "<b>8. How does bacon.remove('cat') change the look of the list in bacon?</b>"
   ]
  },
  {
   "cell_type": "markdown",
   "id": "faf7eee5",
   "metadata": {},
   "source": [
    "<b><h4>Answer</h4></b>"
   ]
  },
  {
   "cell_type": "markdown",
   "id": "0d4e5511",
   "metadata": {},
   "source": [
    "<p>The remove operation in a list which removes the first occurence of the element in a list<br>\n",
    "   [3.14,11, 'cat,' True,99] "
   ]
  },
  {
   "cell_type": "markdown",
   "id": "dacbd858",
   "metadata": {},
   "source": [
    "<b>9. What are the list concatenation and list replication operators?</b>"
   ]
  },
  {
   "cell_type": "markdown",
   "id": "b463272a",
   "metadata": {},
   "source": [
    "<b><h4>Answer</h4></b>"
   ]
  },
  {
   "cell_type": "markdown",
   "id": "ae871d04",
   "metadata": {},
   "source": [
    "<p>The operator that is used for list concatenation is '+'<br>\n",
    "   The operator that is used for list replication is '*'</p> "
   ]
  },
  {
   "cell_type": "markdown",
   "id": "8a56c858",
   "metadata": {},
   "source": [
    "<b>10. What is difference between the list methods append() and insert()?</b>"
   ]
  },
  {
   "cell_type": "markdown",
   "id": "93fa6bc7",
   "metadata": {},
   "source": [
    "<b><h4>Answer</h4></b>"
   ]
  },
  {
   "cell_type": "markdown",
   "id": "ecc97341",
   "metadata": {},
   "source": [
    "<p>The append method adds the element at last position of the list whereas insert method in the list inserts the element in the specified position</p>\n"
   ]
  },
  {
   "cell_type": "markdown",
   "id": "1b2ca5a6",
   "metadata": {},
   "source": [
    "<b>11. What are the two methods for removing items from a list?</b>"
   ]
  },
  {
   "cell_type": "markdown",
   "id": "2d4d21e5",
   "metadata": {},
   "source": [
    "<b><h4>Answer</h4></b>"
   ]
  },
  {
   "cell_type": "markdown",
   "id": "ca0135ab",
   "metadata": {},
   "source": [
    "<p>remove() and pop() are the two methods for removing the items and also we can use \"del\" for deleting the element from the list</p> "
   ]
  },
  {
   "cell_type": "markdown",
   "id": "686bd387",
   "metadata": {},
   "source": [
    "<b>12. Describe how list values and string values are identical.</b>."
   ]
  },
  {
   "cell_type": "markdown",
   "id": "374ad1c5",
   "metadata": {},
   "source": [
    "<b><h4>Answer</h4></b>"
   ]
  },
  {
   "cell_type": "markdown",
   "id": "3fbe08b0",
   "metadata": {},
   "source": [
    "<p>1. List and Strings have common method len() to find out the length<br>\n",
    "   2. Both can be accessed by indexing<br>\n",
    "   3. Both supports slicing operation<br>\n",
    "   4. Both uses in and not in operators to check the specified element present in it or not "
   ]
  },
  {
   "cell_type": "markdown",
   "id": "eb92c81a",
   "metadata": {},
   "source": [
    "<b>13. What's the difference between tuples and lists?<?b>"
   ]
  },
  {
   "cell_type": "markdown",
   "id": "f31c6b5e",
   "metadata": {},
   "source": [
    "<b><h4>Answer</h4></b>"
   ]
  },
  {
   "cell_type": "markdown",
   "id": "5358667a",
   "metadata": {},
   "source": [
    "<p>Lists are mutable i.e. they can be updated after the creation but Tuples are unmutable they can't be changed once they have created<br>\n",
    "    list--->[]<br>\n",
    "    tuple-->()\n",
    "</p>"
   ]
  },
  {
   "cell_type": "markdown",
   "id": "cf026d8f",
   "metadata": {},
   "source": [
    "<b>14. How do you type a tuple value that only contains the integer 42?</b>"
   ]
  },
  {
   "cell_type": "markdown",
   "id": "2dd1bd2f",
   "metadata": {},
   "source": [
    "<b><h4>Answer</h4></b>"
   ]
  },
  {
   "cell_type": "markdown",
   "id": "cf46c7cc",
   "metadata": {},
   "source": [
    "<p>(42)</p>"
   ]
  },
  {
   "cell_type": "markdown",
   "id": "c2dd4480",
   "metadata": {},
   "source": [
    "<b>15. How do you get a list value's tuple form? How do you get a tuple value's list form?</b>\n"
   ]
  },
  {
   "cell_type": "markdown",
   "id": "61534761",
   "metadata": {},
   "source": [
    "<b><h4>Answer</h4></b>"
   ]
  },
  {
   "cell_type": "markdown",
   "id": "81fe84a7",
   "metadata": {},
   "source": [
    "<p>To convert into a list we need to use list()<br>\n",
    "   To convert into a tupke we need to use tuple() <br>\n",
    "   l=[1,2,3] -->list<br>\n",
    "   t=(4,5,6) -->tuple<br>\n",
    "   list(t) --> [4,5,6] --> tuple to list conversion<br>\n",
    "   tuple(l) -->(1,2,3) --> list to tuple conversion\n",
    "</p>   "
   ]
  },
  {
   "cell_type": "markdown",
   "id": "212b9651",
   "metadata": {},
   "source": [
    "<b>16. Variables that \"contain\" list values are not necessarily lists themselves. Instead, what do they contain?</b>"
   ]
  },
  {
   "cell_type": "markdown",
   "id": "21ca8790",
   "metadata": {},
   "source": [
    "<b><h4>Answer</h4></b>"
   ]
  },
  {
   "cell_type": "markdown",
   "id": "5f4e5053",
   "metadata": {},
   "source": [
    "<p>They will contain refrences to the list</p>"
   ]
  },
  {
   "cell_type": "markdown",
   "id": "a3693265",
   "metadata": {},
   "source": [
    "<b>17. How do you distinguish between copy.copy() and copy.deepcopy()?</b>"
   ]
  },
  {
   "cell_type": "markdown",
   "id": "0d4b1936",
   "metadata": {},
   "source": [
    "<b><h4>Answer</h4></b>"
   ]
  },
  {
   "cell_type": "markdown",
   "id": "7f6bd4ad",
   "metadata": {},
   "source": [
    "copy.copy() function creates reference to the original object and any changes that are made to the copied object that changes will reflect to the orginal object also and copy.deepcopy() creates new object, so any changes that are made to the copied object will not reflect to the original object."
   ]
  }
 ],
 "metadata": {
  "kernelspec": {
   "display_name": "Python 3 (ipykernel)",
   "language": "python",
   "name": "python3"
  },
  "language_info": {
   "codemirror_mode": {
    "name": "ipython",
    "version": 3
   },
   "file_extension": ".py",
   "mimetype": "text/x-python",
   "name": "python",
   "nbconvert_exporter": "python",
   "pygments_lexer": "ipython3",
   "version": "3.9.12"
  }
 },
 "nbformat": 4,
 "nbformat_minor": 5
}
