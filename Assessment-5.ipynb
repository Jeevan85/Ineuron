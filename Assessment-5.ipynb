{
 "cells": [
  {
   "cell_type": "markdown",
   "id": "07d66415",
   "metadata": {},
   "source": [
    "<b>1. What does an empty dictionary's code look like?</b>"
   ]
  },
  {
   "cell_type": "markdown",
   "id": "639c2dc4",
   "metadata": {},
   "source": [
    "<b><h4>Answer</h4></b>"
   ]
  },
  {
   "cell_type": "markdown",
   "id": "08a23ff0",
   "metadata": {},
   "source": [
    "<p>{}</p>"
   ]
  },
  {
   "cell_type": "markdown",
   "id": "04a44f34",
   "metadata": {},
   "source": [
    "<b>2. What is the value of a dictionary value with the key 'foo' and the value 42?</b>"
   ]
  },
  {
   "cell_type": "markdown",
   "id": "83080c82",
   "metadata": {},
   "source": [
    "<b><h4>Answer</h4></b>"
   ]
  },
  {
   "cell_type": "markdown",
   "id": "062d0de4",
   "metadata": {},
   "source": [
    "<p>{'foo' : 42}"
   ]
  },
  {
   "cell_type": "markdown",
   "id": "fbc80028",
   "metadata": {},
   "source": [
    "<b>3. What is the most significant distinction between a dictionary and a list?</b>"
   ]
  },
  {
   "cell_type": "markdown",
   "id": "841ba2c3",
   "metadata": {},
   "source": [
    "<b><h4>Answer</h4></b>"
   ]
  },
  {
   "cell_type": "markdown",
   "id": "b1ba2384",
   "metadata": {},
   "source": [
    "<p>The items in the list are ordered, whereas in dictionary items will be stored in unordered way and values in the list can be accessed by using the index, in dictionary key will be used to fetch the value</p>"
   ]
  },
  {
   "cell_type": "markdown",
   "id": "ef7d16ab",
   "metadata": {},
   "source": [
    "<b>4. What happens if you try to access spam['foo'] if spam is {'bar': 100}?</b>"
   ]
  },
  {
   "cell_type": "markdown",
   "id": "3e088e64",
   "metadata": {},
   "source": [
    "<b><h4>Answer</h4></b>"
   ]
  },
  {
   "cell_type": "markdown",
   "id": "625730f8",
   "metadata": {},
   "source": [
    "<p>We will get KeyError</p>"
   ]
  },
  {
   "cell_type": "markdown",
   "id": "2a35d40c",
   "metadata": {},
   "source": [
    "<b>5. If a dictionary is stored in spam, what is the difference between the expressions 'cat' in spam and 'cat' in spam.keys()?</b>"
   ]
  },
  {
   "cell_type": "markdown",
   "id": "574f8104",
   "metadata": {},
   "source": [
    "<b><h4>Answer</h4></b>"
   ]
  },
  {
   "cell_type": "markdown",
   "id": "aaf9a682",
   "metadata": {},
   "source": [
    "<p>There is no difference in both the expressions its checking the key 'cat' is presented in spam or not and the same in the second expression also.</p>"
   ]
  },
  {
   "cell_type": "markdown",
   "id": "31381e14",
   "metadata": {},
   "source": [
    "<b>6. If a dictionary is stored in spam, what is the difference between the expressions 'cat' in spam and 'cat' in spam.values()?</b>"
   ]
  },
  {
   "cell_type": "markdown",
   "id": "00a8fcd0",
   "metadata": {},
   "source": [
    "<b><h4>Answer</h4></b>"
   ]
  },
  {
   "cell_type": "markdown",
   "id": "48045544",
   "metadata": {},
   "source": [
    "<p>There is a difference in both the expressions 'cat' in spam is checking whether key 'cat' is presented in dictonary or not, whereas in the 'cat' in spam.values() its checking the value 'cat' is presented or not</p>\n"
   ]
  },
  {
   "cell_type": "markdown",
   "id": "26e35aef",
   "metadata": {},
   "source": [
    "<b>7. What is a shortcut for the following code?<br>\n",
    "if 'color' not in spam:<br>\n",
    "spam['color'] = 'black'\n",
    "</b>"
   ]
  },
  {
   "cell_type": "markdown",
   "id": "bfaddc58",
   "metadata": {},
   "source": [
    "<b><h4>Answer</h4></b>"
   ]
  },
  {
   "cell_type": "markdown",
   "id": "315244de",
   "metadata": {},
   "source": [
    "<p>spam.setdefault('color', 'black')</p>"
   ]
  },
  {
   "cell_type": "markdown",
   "id": "33538e9a",
   "metadata": {},
   "source": [
    "<b>8. How do you \"pretty print\" dictionary values using which module and function?</b>"
   ]
  },
  {
   "cell_type": "markdown",
   "id": "d04509e3",
   "metadata": {},
   "source": [
    "<b><h4>Answer</h4></b>"
   ]
  },
  {
   "cell_type": "markdown",
   "id": "a8797780",
   "metadata": {},
   "source": [
    "<p>pprint.pprint()</p>"
   ]
  }
 ],
 "metadata": {
  "kernelspec": {
   "display_name": "Python 3 (ipykernel)",
   "language": "python",
   "name": "python3"
  },
  "language_info": {
   "codemirror_mode": {
    "name": "ipython",
    "version": 3
   },
   "file_extension": ".py",
   "mimetype": "text/x-python",
   "name": "python",
   "nbconvert_exporter": "python",
   "pygments_lexer": "ipython3",
   "version": "3.9.12"
  }
 },
 "nbformat": 4,
 "nbformat_minor": 5
}
