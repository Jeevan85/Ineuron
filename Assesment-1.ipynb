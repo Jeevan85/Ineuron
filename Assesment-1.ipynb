{
 "cells": [
  {
   "cell_type": "markdown",
   "id": "34e2653d",
   "metadata": {},
   "source": [
    "<b>1. In the below elements which of them are values or an expression? eg:- values can be integer or string and expressions will be mathematical operators.</b>\n",
    "* \n",
    "'hello'\n",
    "-87.8\n",
    "- \n",
    "/ \n",
    "+\t\n",
    "6 \n"
   ]
  },
  {
   "cell_type": "markdown",
   "id": "93bc37a2",
   "metadata": {},
   "source": [
    "<b><h3>Answer</h3></b>\n",
    "<br>\n",
    "<p>'hello' -- Value(String)</p>\n",
    "<p>87.8 -- Value(Integer)</p>\n",
    "<p>/ -- expression </p>\n",
    "<p>+ -- expression </p>\n",
    "<p>6 -- Value(Integer) </p>"
   ]
  },
  {
   "cell_type": "markdown",
   "id": "109f7d29",
   "metadata": {},
   "source": [
    "<b>2. What is the difference between string and variable?</b>"
   ]
  },
  {
   "cell_type": "markdown",
   "id": "13f21935",
   "metadata": {},
   "source": [
    "   <b><h3>Answer</h3></b>"
   ]
  },
  {
   "cell_type": "markdown",
   "id": "c60ef637",
   "metadata": {},
   "source": [
    "<p>String is a combination of sequence of characters where as variable is an symbolic name that acts as a reference for a object, it can take any type of value</p>"
   ]
  },
  {
   "cell_type": "markdown",
   "id": "30ad8375",
   "metadata": {},
   "source": [
    "<b>3.Describe three different data types</b>"
   ]
  },
  {
   "cell_type": "markdown",
   "id": "1bea4ea9",
   "metadata": {},
   "source": [
    "   <b><h3>Answer</h3></b>"
   ]
  },
  {
   "cell_type": "markdown",
   "id": "d6b7be08",
   "metadata": {},
   "source": [
    "<p> 1) Numeric <br>\n",
    "    2) String  <br>\n",
    "    3) Boolean  <br>\n",
    "    Numeric is a data type that holds Integer,Float and Double values.<br>\n",
    "    String is a combination of sequence of characters.<br>\n",
    "    Boolean is a data type that holds 2 values i.e., True or False.</p>"
   ]
  },
  {
   "cell_type": "markdown",
   "id": "cad182ed",
   "metadata": {},
   "source": [
    "<b>4.What is an expression made up of? What do all expressions do?</b>"
   ]
  },
  {
   "cell_type": "markdown",
   "id": "eba7558c",
   "metadata": {},
   "source": [
    "   <b><h3>Answer</h3></b>"
   ]
  },
  {
   "cell_type": "markdown",
   "id": "3d188f87",
   "metadata": {},
   "source": [
    "<p> An expression is a combination of operators and operands, operator means (+,-*,/...) and operands are nothing but the values/variables that holds the value. These expression produces a result upon perfotming the operation.</p>"
   ]
  },
  {
   "cell_type": "markdown",
   "id": "e45f6907",
   "metadata": {},
   "source": [
    "<b>5. This assignment statements, like spam = 10. What is the difference between an expression and a statement?</b>\n"
   ]
  },
  {
   "cell_type": "markdown",
   "id": "6ad89076",
   "metadata": {},
   "source": [
    "   <b><h3>Answer</h3></b>"
   ]
  },
  {
   "cell_type": "markdown",
   "id": "6042bc37",
   "metadata": {},
   "source": [
    "<p> Spam =10 is nothing but we are assigning the value for the variable Spam and that value can be referenced by spam and it can be used for further operations. Coming to the difference between the expression & Statement, expression is evaluated for some results whereas statement is not evaluated for results.</p>"
   ]
  },
  {
   "cell_type": "markdown",
   "id": "44f209f1",
   "metadata": {},
   "source": [
    "<b>6. After running the following code, what does the variable bacon contain?\n",
    "bacon = 22\n",
    "bacon + 1\n",
    "</b>"
   ]
  },
  {
   "cell_type": "markdown",
   "id": "76658fbd",
   "metadata": {},
   "source": [
    "   <b><h3>Answer</h3></b>"
   ]
  },
  {
   "cell_type": "markdown",
   "id": "6ee780b4",
   "metadata": {},
   "source": [
    "<p> After execution the bacon contains 22 because in the next expression bacon is adding with 1 but it will not reflect to the original value</p>"
   ]
  },
  {
   "cell_type": "markdown",
   "id": "633b22e2",
   "metadata": {},
   "source": [
    "<b>7. What should the values of the following two terms be?\n",
    "'spam' + 'spamspam'\n",
    "'spam' * 3\n",
    "</b>"
   ]
  },
  {
   "cell_type": "markdown",
   "id": "e4224010",
   "metadata": {},
   "source": [
    "   <b><h3>Answer</h3></b>"
   ]
  },
  {
   "cell_type": "markdown",
   "id": "d0566394",
   "metadata": {},
   "source": [
    "<p> 'spam' + 'spamspam' --->  'spamspamspam'<br>\n",
    "    spam' * 3  ---> 'spamspamspam'</p>"
   ]
  },
  {
   "cell_type": "markdown",
   "id": "b246f707",
   "metadata": {},
   "source": [
    "<b>8. Why is eggs a valid variable name while 100 is invalid?</b>"
   ]
  },
  {
   "cell_type": "markdown",
   "id": "954a6f66",
   "metadata": {},
   "source": [
    "   <b><h3>Answer</h3></b>"
   ]
  },
  {
   "cell_type": "markdown",
   "id": "f69973c0",
   "metadata": {},
   "source": [
    "<p>Eggs is a valid variable because it follows the naming convention but 100 is not, a variable name should not start with numbers</p>"
   ]
  },
  {
   "cell_type": "markdown",
   "id": "f56a92b8",
   "metadata": {},
   "source": [
    "<b>9. What three functions can be used to get the integer, floating-point number, or string version of a value?</b>"
   ]
  },
  {
   "cell_type": "markdown",
   "id": "b3e68e9a",
   "metadata": {},
   "source": [
    "   <b><h3>Answer</h3></b>"
   ]
  },
  {
   "cell_type": "markdown",
   "id": "b7992d96",
   "metadata": {},
   "source": [
    "<p>int() for integer , float() for Floating point nunber and str() for Strings</p>"
   ]
  },
  {
   "cell_type": "markdown",
   "id": "94f5a214",
   "metadata": {},
   "source": [
    "<b>10. Why does this expression cause an error? How can you fix it?\n",
    "'I have eaten ' + 99 + ' burritos.'\n",
    "</b>"
   ]
  },
  {
   "cell_type": "markdown",
   "id": "bfb580f6",
   "metadata": {},
   "source": [
    "   <b><h3>Answer</h3></b>"
   ]
  },
  {
   "cell_type": "markdown",
   "id": "a349146e",
   "metadata": {},
   "source": [
    "<p>Since it concatenation is done between the Strings but not between Strings and integer, where 99 is an integer and we can fix it by encoding the 99 in single quotes i.e.,\n",
    "<br>\n",
    "'I have eaten ' + '99' + ' burritos.'</p>"
   ]
  }
 ],
 "metadata": {
  "kernelspec": {
   "display_name": "Python 3 (ipykernel)",
   "language": "python",
   "name": "python3"
  },
  "language_info": {
   "codemirror_mode": {
    "name": "ipython",
    "version": 3
   },
   "file_extension": ".py",
   "mimetype": "text/x-python",
   "name": "python",
   "nbconvert_exporter": "python",
   "pygments_lexer": "ipython3",
   "version": "3.9.12"
  }
 },
 "nbformat": 4,
 "nbformat_minor": 5
}
